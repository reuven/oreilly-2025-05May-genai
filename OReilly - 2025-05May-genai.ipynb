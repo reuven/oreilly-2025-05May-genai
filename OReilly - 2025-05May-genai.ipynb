{
 "cells": [
  {
   "cell_type": "markdown",
   "metadata": {},
   "source": [
    "# Agenda:\n",
    "\n",
    "1. What are LLMs and modern chatbots?\n",
    "2. How can we use them?\n",
    "3. Pair programming -- without and with ChatGPT\n",
    "4. Pair programming with Claude\n",
    "    - Rubber-duck programming with LLMs\n",
    "    - Enthusiastic intern\n",
    "    - Interview technique for learning more\n",
    "5. Developing tests with `pytest`, along with a chatbot's help\n",
    "6. Using a chatbot in debugging\n",
    "7. Using a chatbot for researching -- the \"reverse Socratic\" method\n",
    "8. Copilot inside of your IDE -- good and bad\n",
    "9. Where do we go next?"
   ]
  },
  {
   "cell_type": "markdown",
   "metadata": {},
   "source": [
    "# Intro to ChatGPT\n",
    "\n",
    "ChatGPT was released 2.5 years ago at this point. It's a very sophsticated LLM (large-language model). The idea is:\n",
    "\n",
    "- They have \"trained\" ChatGPT on a huge number of documents on the Internet (and not on the Internet)\n",
    "- You can ask it a question, and it'll answer you, word by word, using a fancy kind of autocomplete\n",
    "\n",
    "If you ask a chatbot to answer a question, it will more likely than not be able to answer, both because it has a lot of information that it has assimilated, and because the sheer number of documents it has incorporated into its training makes it likely that the \"average sentence\" on a subject that it creates will be reasonable.\n",
    "\n",
    "Not only can ChatGPT give us text, but it can also give us *code*, and it does a decent job of creating a lot of code.\n",
    "\n",
    "Mistake #1 that I believe people make with LLMs is: Having it write code for them.\n",
    "\n",
    "Part 2 of this belief is: If you really want to have an LLM write code, then you will need the expertise to review it thoroughly and make sure that it's reasonable. If you would be willing to explain and defend the code in a code-review session at your company, then yes, let the LLM write code.\n",
    "\n",
    "People are talking about \"vibe-coding\" in the last few months, where even if you don't have experience coding, you can ask the LLM to code for you, and it'll create applications. In many *many* cases, these applications have security problems, major bugs, etc. \n",
    "\n",
    "People would say, \"The programming language of the future is English,\" because if everyone has access to ChatGPT, and everyone can describe what code they want, then they will get great code without needing programmers.\n",
    "\n"
   ]
  },
  {
   "cell_type": "code",
   "execution_count": null,
   "metadata": {},
   "outputs": [],
   "source": []
  }
 ],
 "metadata": {
  "kernelspec": {
   "display_name": "Python 3 (ipykernel)",
   "language": "python",
   "name": "python3"
  },
  "language_info": {
   "codemirror_mode": {
    "name": "ipython",
    "version": 3
   },
   "file_extension": ".py",
   "mimetype": "text/x-python",
   "name": "python",
   "nbconvert_exporter": "python",
   "pygments_lexer": "ipython3",
   "version": "3.13.2"
  }
 },
 "nbformat": 4,
 "nbformat_minor": 4
}
