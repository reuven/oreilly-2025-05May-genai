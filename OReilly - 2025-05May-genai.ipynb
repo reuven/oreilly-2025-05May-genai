{
 "cells": [
  {
   "cell_type": "markdown",
   "metadata": {},
   "source": [
    "# Agenda:\n",
    "\n",
    "1. What are LLMs and modern chatbots?\n",
    "2. How can we use them?\n",
    "3. Pair programming -- without and with ChatGPT\n",
    "4. Pair programming with Claude\n",
    "    - Rubber-duck programming with LLMs\n",
    "    - Enthusiastic intern\n",
    "    - Interview technique for learning more\n",
    "5. Developing tests with `pytest`, along with a chatbot's help\n",
    "6. Using a chatbot in debugging\n",
    "7. Using a chatbot for researching -- the \"reverse Socratic\" method\n",
    "8. Copilot inside of your IDE -- good and bad\n",
    "9. Where do we go next?"
   ]
  },
  {
   "cell_type": "markdown",
   "metadata": {},
   "source": [
    "# Intro to ChatGPT\n",
    "\n",
    "ChatGPT was released 2.5 years ago at this point. It's a very sophsticated LLM (large-language model). The idea is:\n",
    "\n",
    "- They have \"trained\" ChatGPT on a huge number of documents on the Internet (and not on the Internet)\n",
    "- You can ask it a question, and it'll answer you, word by word, using a fancy kind of autocomplete\n",
    "\n",
    "If you ask a chatbot to answer a question, it will more likely than not be able to answer, both because it has a lot of information that it has assimilated, and because the sheer number of documents it has incorporated into its training makes it likely that the \"average sentence\" on a subject that it creates will be reasonable.\n",
    "\n",
    "Not only can ChatGPT give us text, but it can also give us *code*, and it does a decent job of creating a lot of code.\n",
    "\n",
    "Mistake #1 that I believe people make with LLMs is: Having it write code for them.\n",
    "\n",
    "Part 2 of this belief is: If you really want to have an LLM write code, then you will need the expertise to review it thoroughly and make sure that it's reasonable. If you would be willing to explain and defend the code in a code-review session at your company, then yes, let the LLM write code.\n",
    "\n",
    "People are talking about \"vibe-coding\" in the last few months, where even if you don't have experience coding, you can ask the LLM to code for you, and it'll create applications. In many *many* cases, these applications have security problems, major bugs, etc. \n",
    "\n",
    "People would say, \"The programming language of the future is English,\" because if everyone has access to ChatGPT, and everyone can describe what code they want, then they will get great code without needing programmers.\n",
    "\n",
    "Copmanies are now slowing down their hiring of new coders, and relying on experienced coders + LLMs to write their code. BUT what will happen when the seniors retire? How will the juniors get their experience? \n",
    "\n"
   ]
  },
  {
   "cell_type": "markdown",
   "metadata": {},
   "source": [
    "# If not coding, then what?\n",
    "\n",
    "I would say that LLMs are a huge benefit/boon to programmers, but not for writing code. One of the best ways to use them is as a sounding board, to get a response to what you're thinking/planning, or even what you have already written.\n",
    "\n",
    "I think it's totally OK (even a good thing) to tell an LLM what you plan to do before you start coding. I intend to solve this problem in the following way (using pseudo-code), and ask the LLM -- what does it think? (Also, tell it not to write code.)\n",
    "\n",
    "- It might well over-flatter you.\n",
    "\n",
    "Argue with it! The best thing you can do for your sanity, and also for the quality of your work, and also to ensure that the LLM isn't hallucinating, is to argue -- ask it lots of questions. Is that really true? Why is that the case? Wouldn't it be better to do X instead of Y? What are the trade-offs between X and Y?\n",
    "\n",
    "One metaphor that I heard is: A chatbot is a very enthusisastic intern. \n",
    "\n",
    "### Once you've finished coding...\n",
    "\n",
    "Run your code through the LLM, and ask it, \"What do you think?\"\n",
    "\n",
    "You'll get feedback quickly and well, and you have to have the sophistication/experience to know what to listen to, what to throw out, and what to ask more questions about.\n",
    "\n",
    "Because LLMs are trained on code/text that's out in the wild, and because Python has a long history and is very popular, it's easy for a chatbot to write Python. If you were to ask it to write in another language, then it would have less history and information, and would write worse code.\n",
    "\n",
    "A chatbot gives you the average text from the Internet on a subject... \n",
    "\n",
    "If you use English, you will get far better results than in other languages."
   ]
  },
  {
   "cell_type": "markdown",
   "metadata": {},
   "source": [
    "# Pair programming\n",
    "\n",
    "Pair programming isn't new -- the idea is that two people work on the same computer. Some people say you should *always* pair. In my courses, if two people are working on a single computer, they almost always finish the exercise faster, they finish it more correctly, and they remember what they did better -- in other words, it's a better learning experience.\n",
    "\n",
    "Pairing has issues -- the other person needs to be available, you need to have compatible personalities, and they need to understand something of what you're doing.\n",
    "\n",
    "Pairing with an LLM can be very convenient, especially because a big benefit of pairing is not the other person! A big benefit is that you're talking to the other person, describing your approach, code, and plan, and just having to phrase and express those ideas forces you to crystallize your thinking, and thus write better code.\n",
    "\n",
    "1. Present your strategy to the LLM\n",
    "2. As you code, or as you're going to write, ask the LLM what it thinks about each line, or function, or section of code. You might want to say, \"Don't rewrite the code\" in your prompt, to avoid that sort of thing.\n",
    "3. Don't be afraid to push back and argue! Just because it's an LLM doesn't mean that it's the best coder in the world!\n",
    "\n",
    "With enough back-and-forth, you'll be more confident (and knowledgeable) about your code, and you will have avoided truly big, stupid errors.\n",
    "\n",
    "You can also pair *after* the coding phase. Once you've finished coding, give the code to the LLM, and have it review things.\n",
    "\n"
   ]
  },
  {
   "cell_type": "markdown",
   "metadata": {},
   "source": [
    "- Great book: \"Weapons of Math Destruction\" from Cathy O'Neil\n",
    "- Tay on Twitter"
   ]
  },
  {
   "cell_type": "markdown",
   "metadata": {},
   "source": [
    "# Exercise: Pig Latin translator\n",
    "\n",
    "1. Write a function, `pl_word`, that takes a single word (all lowercase, no punctuation) and returns a string in which the word is translated into Pig Latin.\n",
    "2. Write a function, `pl_sentence`, that does the same thing for a sentence (all lowercase, no punctuation, but spaces between words).\n",
    "\n",
    "Rules for Pig Latin (children's \"secret\" language):\n",
    "- If a word starts with a vowel (a, e, i, o, u) then return the word + `way`\n",
    "- Otherwise, move the first letter to the end, and add `ay`\n",
    "\n",
    "Examples:\n",
    "\n",
    "- `computer` -> `omputercay`\n",
    "- `apple` -> `appleway`\n",
    "- `papaya` -> `apayapay`\n",
    "\n",
    "1. Get feedback on your strategy from an LLM\n",
    "2. Get feedback on your code, too.\n",
    "3. If your functions work together, then get feedback on how you did that."
   ]
  },
  {
   "cell_type": "code",
   "execution_count": null,
   "metadata": {},
   "outputs": [],
   "source": []
  }
 ],
 "metadata": {
  "kernelspec": {
   "display_name": "Python 3 (ipykernel)",
   "language": "python",
   "name": "python3"
  },
  "language_info": {
   "codemirror_mode": {
    "name": "ipython",
    "version": 3
   },
   "file_extension": ".py",
   "mimetype": "text/x-python",
   "name": "python",
   "nbconvert_exporter": "python",
   "pygments_lexer": "ipython3",
   "version": "3.13.2"
  }
 },
 "nbformat": 4,
 "nbformat_minor": 4
}
