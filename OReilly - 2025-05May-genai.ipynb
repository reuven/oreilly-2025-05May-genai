{
 "cells": [
  {
   "cell_type": "markdown",
   "metadata": {},
   "source": [
    "# Agenda:\n",
    "\n",
    "1. What are LLMs and modern chatbots?\n",
    "2. How can we use them?\n",
    "3. Pair programming -- without and with ChatGPT\n",
    "4. Pair programming with Claude\n",
    "    - Rubber-duck programming with LLMs\n",
    "    - Enthusiastic intern\n",
    "    - Interview technique for learning more\n",
    "5. Developing tests with `pytest`, along with a chatbot's help\n",
    "6. Using a chatbot in debugging\n",
    "7. Using a chatbot for researching -- the \"reverse Socratic\" method\n",
    "8. Copilot inside of your IDE -- good and bad\n",
    "9. Where do we go next?"
   ]
  },
  {
   "cell_type": "code",
   "execution_count": null,
   "metadata": {},
   "outputs": [],
   "source": []
  }
 ],
 "metadata": {
  "kernelspec": {
   "display_name": "Python 3 (ipykernel)",
   "language": "python",
   "name": "python3"
  },
  "language_info": {
   "codemirror_mode": {
    "name": "ipython",
    "version": 3
   },
   "file_extension": ".py",
   "mimetype": "text/x-python",
   "name": "python",
   "nbconvert_exporter": "python",
   "pygments_lexer": "ipython3",
   "version": "3.13.2"
  }
 },
 "nbformat": 4,
 "nbformat_minor": 4
}
